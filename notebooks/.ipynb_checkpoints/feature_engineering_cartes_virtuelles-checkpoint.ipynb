{
 "cells": [
  {
   "cell_type": "code",
   "execution_count": 2,
   "id": "f72a45e5-55c0-406a-afe2-ea1ceecf70ce",
   "metadata": {},
   "outputs": [
    {
     "name": "stdout",
     "output_type": "stream",
     "text": [
      "\n",
      " Tous les fichiers CSV nettoyes ont été chargés avec succès !\n"
     ]
    }
   ],
   "source": [
    "#Detection fraude - Feature engineering (l'objectif est d'extraire les caracteristiques pertinentes a partir des donnees netoyees, en vue de detecter les fraudes liee a l'utilisation de la carte virtuelle)\n",
    "\n",
    "#1) importation des bibliotheques\n",
    "import pandas as pd #lire et manipuler lesfichiers cvs\n",
    "import numpy as np #calcul numerique\n",
    "import os #chemin au datasets\n",
    "from datetime import datetime, timedelta \n",
    "\n",
    "#2) chargement des datasets nettoyes\n",
    "#definition du chemin depuis le notebook vers le dossier contenant les datasets\n",
    "data_path = os.path.join(\"..\", \"datasets\") #\"..\" pour remonter au dossier parent\n",
    "\n",
    "# chargement des fichiers nettoyees\n",
    "account_df = pd.read_csv(os.path.join(data_path, \"account_cleaned.csv\"))\n",
    "user_df = pd.read_csv(os.path.join(data_path, \"user_cleaned.csv\"))\n",
    "history_df = pd.read_csv(os.path.join(data_path, \"history_cleaned.csv\"))\n",
    "bill_df = pd.read_csv(os.path.join(data_path, \"bill_cleaned.csv\"))\n",
    "transfert_df = pd.read_csv(os.path.join(data_path, \"transfert_cleaned.csv\"))\n",
    "splogin_history_df = pd.read_csv(os.path.join(data_path, \"splogin_cleaned.csv\"))\n",
    "changes_df = pd.read_csv(os.path.join(data_path, \"changes_cleaned.csv\"))\n",
    "\n",
    "print(\"\\n Tous les fichiers CSV nettoyes ont été chargés avec succès !\")"
   ]
  },
  {
   "cell_type": "code",
   "execution_count": 3,
   "id": "c8daec8c-a521-4c8c-b238-d0609e62d60c",
   "metadata": {},
   "outputs": [
    {
     "name": "stdout",
     "output_type": "stream",
     "text": [
      "    user_id  nb_wallets  balance_moyen  balance_max\n",
      "0  0.000000           1       0.188727     0.188727\n",
      "1  0.000732           2       0.188727     0.188727\n",
      "2  0.002928           3       0.194277     0.233123\n",
      "3  0.003294           4       0.188921     0.190275\n",
      "4  0.003660           2       0.194298     0.233288\n"
     ]
    }
   ],
   "source": [
    "#3) extraction des caracteristiques par classe\n",
    "\n",
    "#a) classe account\n",
    "# Objectif : extraire des infos liées aux wallets et aux soldes\n",
    "\n",
    "# Action 1 : Nombre de wallets différents par utilisateur(verifier si un utilisateur a plusieurs wallets)\n",
    "account_features = account_df.groupby(\"user_id\")[\"wallet\"].nunique().reset_index()\n",
    "account_features.rename(columns={\"wallet\": \"nb_wallets\"}, inplace=True)\n",
    "\n",
    "# Action 2 : Balance moyenne et balance maximale par utilisateur(verifier si un utilisateur a un solde negatif ou anormalement eleve)\n",
    "balance_stats = account_df.groupby(\"user_id\")[\"balance\"].agg([\"mean\", \"max\"]).reset_index()\n",
    "balance_stats.rename(columns={\"mean\": \"balance_moyen\", \"max\": \"balance_max\"}, inplace=True)\n",
    "\n",
    "# Fusion des deux résultats\n",
    "account_features = account_features.merge(balance_stats, on=\"user_id\", how=\"left\")\n",
    "\n",
    "#afficher les cinq premiers lignes du resultalt\n",
    "print(account_features.head())"
   ]
  },
  {
   "cell_type": "code",
   "execution_count": 4,
   "id": "fc3131c1-248d-46e8-9b04-8d9b0406ab8d",
   "metadata": {},
   "outputs": [],
   "source": [
    "#b) classe user\n",
    "# Objectif : identifier les comptes récents, inactifs et non vérifiés\n",
    "\n",
    "# Action  : Calculer l'âge du compte (en jours)\n",
    "user_df[\"age_compte_jours\"] = (pd.to_datetime(\"today\") - pd.to_datetime(user_df[\"date_start\"])).dt.days\n",
    "\n",
    "# Action  : Calculer le délai depuis la dernière opération\n",
    "user_df[\"delai_derniere_op\"] = (pd.to_datetime(\"today\") - pd.to_datetime(user_df[\"last_operation\"])).dt.days.fillna(-1)\n",
    "\n",
    "# Action  : ajout d'une variable binaire pour KYC\n",
    "user_df[\"kyc_valide\"] = 1 - (user_df[\"kyc_status_NOT_INITIATED\"] + \n",
    "                             user_df[\"kyc_status_PENDING\"] + \n",
    "                             user_df[\"kyc_status_REJECTED\"])\n"
   ]
  },
  {
   "cell_type": "code",
   "execution_count": 5,
   "id": "ca9d114a-51c7-4de8-a429-b7f2d0674241",
   "metadata": {},
   "outputs": [
    {
     "name": "stdout",
     "output_type": "stream",
     "text": [
      "    user_id  nb_trans_total  nb_trans_failed  taux_echec_trans\n",
      "0  0.000000               4              4.0          1.000000\n",
      "1  0.000735              42              0.0          0.000000\n",
      "2  0.002940            1557            604.0          0.387925\n",
      "3  0.003308             295            158.0          0.535593\n",
      "4  0.003675             606            143.0          0.235974\n"
     ]
    }
   ],
   "source": [
    "#C) classe history\n",
    "# Objectif : calculer le taux d'échec des transactions\n",
    "\n",
    "# action 1 : Compter le nombre total de transactions et celles échouées\n",
    "history_features = history_df.groupby(\"user_id\").agg(\n",
    "    nb_trans_total = (\"status_FAILURE\", \"count\"),       # Total de lignes par user\n",
    "    nb_trans_failed = (\"status_FAILURE\", \"sum\")         # Somme des échecs\n",
    ").reset_index()\n",
    "\n",
    "# action e 2 : Calcul du taux d’échec\n",
    "history_features[\"taux_echec_trans\"] = history_features[\"nb_trans_failed\"] / history_features[\"nb_trans_total\"]\n",
    "history_features.loc[:, \"taux_echec_trans\"] = history_features[\"taux_echec_trans\"].fillna(0)\n",
    "\n",
    "print(history_features.head())"
   ]
  },
  {
   "cell_type": "code",
   "execution_count": 6,
   "id": "fc41f748-1e44-4316-9e84-b4f334b2466a",
   "metadata": {},
   "outputs": [
    {
     "name": "stdout",
     "output_type": "stream",
     "text": [
      "    user_id  nb_paiements  montant_total_paye\n",
      "0  0.000000             4            3.999999\n",
      "1  0.002940          1334         1333.999629\n",
      "2  0.003308           234          233.999935\n",
      "3  0.003675           144          143.999960\n",
      "4  0.004778            16           15.999996\n"
     ]
    }
   ],
   "source": [
    "#d) classe bill\n",
    "# Objectif : connaître l’activité de paiement de chaque utilisateur\n",
    "\n",
    "# action 1 : Nombre de paiements réalisés\n",
    "bill_features = bill_df.groupby(\"user_id\")[\"amount\"].count().reset_index()\n",
    "bill_features.rename(columns={\"amount\": \"nb_paiements\"}, inplace=True)\n",
    "\n",
    "# action 2 : Montant total payé par utilisateur\n",
    "montant_total = bill_df.groupby(\"user_id\")[\"amount\"].sum().reset_index()\n",
    "montant_total.rename(columns={\"amount\": \"montant_total_paye\"}, inplace=True)\n",
    "\n",
    "# Fusion\n",
    "bill_features = bill_features.merge(montant_total, on=\"user_id\", how=\"left\")\n",
    "\n",
    "print(bill_features.head())"
   ]
  },
  {
   "cell_type": "code",
   "execution_count": 7,
   "id": "75a01a21-ad6b-49d3-a01f-cac07b7ce36f",
   "metadata": {},
   "outputs": [
    {
     "name": "stdout",
     "output_type": "stream",
     "text": [
      "Empty DataFrame\n",
      "Columns: [user_id, nb_transferts_30j]\n",
      "Index: []\n"
     ]
    }
   ],
   "source": [
    "#e) classe transfert\n",
    "# Objectif : identifier les utilisateurs actifs récemment\n",
    "\n",
    "# action : Nombre de transferts réalisés au cours des 30 derniers jours\n",
    "transfert_df[\"proceed_at\"] = pd.to_datetime(transfert_df[\"proceed_at\"])  # Assurer que la colonne est bien en datetime\n",
    "date_limite = pd.to_datetime(\"today\") - timedelta(days=30)\n",
    "\n",
    "recent_transferts = transfert_df[transfert_df[\"proceed_at\"] >= date_limite]\n",
    "transfert_features = recent_transferts.groupby(\"user_id\")[\"id\"].count().reset_index()\n",
    "transfert_features.rename(columns={\"id\": \"nb_transferts_30j\"}, inplace=True)\n",
    "\n",
    "print(transfert_features.head())"
   ]
  },
  {
   "cell_type": "code",
   "execution_count": 8,
   "id": "f19b7258-6ea7-4bec-828a-3f3a8adb83c0",
   "metadata": {},
   "outputs": [
    {
     "name": "stdout",
     "output_type": "stream",
     "text": [
      "    user_id  nb_ips_diff\n",
      "0  0.000000            2\n",
      "1  0.005952            8\n",
      "2  0.006410           13\n",
      "3  0.006868            7\n",
      "4  0.007784            1\n"
     ]
    }
   ],
   "source": [
    "#f) classe splogin_history\n",
    "# Objectif : repérer les connexions suspectes via plusieurs IP\n",
    "\n",
    "# action : Nombre d’IP (host) différentes utilisées par utilisateur\n",
    "login_features = splogin_history_df.groupby(\"user_id\")[\"host\"].nunique().reset_index()\n",
    "login_features.rename(columns={\"host\": \"nb_ips_diff\"}, inplace=True)\n",
    "\n",
    "print(login_features.head())"
   ]
  },
  {
   "cell_type": "code",
   "execution_count": 9,
   "id": "8ebbb864-b9af-40d9-8062-4e1847c7af7e",
   "metadata": {},
   "outputs": [
    {
     "name": "stdout",
     "output_type": "stream",
     "text": [
      "    user_id  nb_modifications_wallet\n",
      "0  0.000000                       26\n",
      "1  0.000369                        8\n",
      "2  0.000738                        6\n",
      "3  0.107380                        1\n",
      "4  0.148339                        9\n"
     ]
    }
   ],
   "source": [
    "#g) classe changes\n",
    "# Objectif : voir si l’utilisateur modifie souvent son compte\n",
    "\n",
    "# action : Nombre de modifications de wallet par utilisateur\n",
    "changes_features = changes_df.groupby(\"user_id\")[\"in_wallet\"].count().reset_index()\n",
    "changes_features.rename(columns={\"in_wallet\": \"nb_modifications_wallet\"}, inplace=True)\n",
    "\n",
    "print(changes_features.head())"
   ]
  },
  {
   "cell_type": "code",
   "execution_count": 10,
   "id": "3bd2c133-7b61-4d89-b73b-2902e667fbae",
   "metadata": {},
   "outputs": [],
   "source": [
    "# 4) FUSION DE TOUTES LES FEATURES\n",
    "\n",
    "# Point de départ : liste unique des utilisateurs\n",
    "user_df = user_df.rename(columns={\"id\": \"user_id\"})\n",
    "features_df = user_df[[\"user_id\"]].copy()\n",
    "\n",
    "# Fusion progressive des DataFrames\n",
    "features_df = features_df.merge(account_features, on=\"user_id\", how=\"left\")\n",
    "features_df = features_df.merge(history_features, on=\"user_id\", how=\"left\")\n",
    "features_df = features_df.merge(bill_features, on=\"user_id\", how=\"left\")\n",
    "features_df = features_df.merge(transfert_features, on=\"user_id\", how=\"left\")\n",
    "features_df = features_df.merge(login_features, on=\"user_id\", how=\"left\")\n",
    "features_df = features_df.merge(changes_features, on=\"user_id\", how=\"left\")\n",
    "\n",
    "# Ajout des colonnes extraites directement de user_df\n",
    "features_df[\"age_compte_jours\"] = user_df[\"age_compte_jours\"]\n",
    "features_df[\"delai_derniere_op\"] = user_df[\"delai_derniere_op\"]\n",
    "features_df[\"kyc_valide\"] = user_df[\"kyc_valide\"]\n"
   ]
  },
  {
   "cell_type": "code",
   "execution_count": 11,
   "id": "8d252b62-5189-47d7-803b-7415efc7004a",
   "metadata": {},
   "outputs": [
    {
     "name": "stdout",
     "output_type": "stream",
     "text": [
      "user_id                    float64\n",
      "nb_wallets                 float64\n",
      "balance_moyen              float64\n",
      "balance_max                float64\n",
      "nb_trans_total             float64\n",
      "nb_trans_failed            float64\n",
      "taux_echec_trans           float64\n",
      "nb_paiements               float64\n",
      "montant_total_paye         float64\n",
      "nb_transferts_30j          float64\n",
      "nb_ips_diff                float64\n",
      "nb_modifications_wallet    float64\n",
      "age_compte_jours             int64\n",
      "delai_derniere_op            int64\n",
      "kyc_valide                 float64\n",
      "dtype: object\n"
     ]
    },
    {
     "data": {
      "text/html": [
       "<div>\n",
       "<style scoped>\n",
       "    .dataframe tbody tr th:only-of-type {\n",
       "        vertical-align: middle;\n",
       "    }\n",
       "\n",
       "    .dataframe tbody tr th {\n",
       "        vertical-align: top;\n",
       "    }\n",
       "\n",
       "    .dataframe thead th {\n",
       "        text-align: right;\n",
       "    }\n",
       "</style>\n",
       "<table border=\"1\" class=\"dataframe\">\n",
       "  <thead>\n",
       "    <tr style=\"text-align: right;\">\n",
       "      <th></th>\n",
       "      <th>user_id</th>\n",
       "      <th>nb_wallets</th>\n",
       "      <th>balance_moyen</th>\n",
       "      <th>balance_max</th>\n",
       "      <th>nb_trans_total</th>\n",
       "      <th>nb_trans_failed</th>\n",
       "      <th>taux_echec_trans</th>\n",
       "      <th>nb_paiements</th>\n",
       "      <th>montant_total_paye</th>\n",
       "      <th>nb_transferts_30j</th>\n",
       "      <th>nb_ips_diff</th>\n",
       "      <th>nb_modifications_wallet</th>\n",
       "      <th>age_compte_jours</th>\n",
       "      <th>delai_derniere_op</th>\n",
       "      <th>kyc_valide</th>\n",
       "    </tr>\n",
       "  </thead>\n",
       "  <tbody>\n",
       "    <tr>\n",
       "      <th>0</th>\n",
       "      <td>0.000000</td>\n",
       "      <td>1.0</td>\n",
       "      <td>0.188727</td>\n",
       "      <td>0.188727</td>\n",
       "      <td>4.0</td>\n",
       "      <td>4.0</td>\n",
       "      <td>1.0</td>\n",
       "      <td>4.0</td>\n",
       "      <td>3.999999</td>\n",
       "      <td>0.0</td>\n",
       "      <td>2.0</td>\n",
       "      <td>26.0</td>\n",
       "      <td>20171</td>\n",
       "      <td>20171</td>\n",
       "      <td>0.0</td>\n",
       "    </tr>\n",
       "    <tr>\n",
       "      <th>1</th>\n",
       "      <td>0.001827</td>\n",
       "      <td>0.0</td>\n",
       "      <td>0.000000</td>\n",
       "      <td>0.000000</td>\n",
       "      <td>0.0</td>\n",
       "      <td>0.0</td>\n",
       "      <td>0.0</td>\n",
       "      <td>0.0</td>\n",
       "      <td>0.000000</td>\n",
       "      <td>0.0</td>\n",
       "      <td>0.0</td>\n",
       "      <td>0.0</td>\n",
       "      <td>20171</td>\n",
       "      <td>20171</td>\n",
       "      <td>0.0</td>\n",
       "    </tr>\n",
       "    <tr>\n",
       "      <th>2</th>\n",
       "      <td>0.002558</td>\n",
       "      <td>0.0</td>\n",
       "      <td>0.000000</td>\n",
       "      <td>0.000000</td>\n",
       "      <td>0.0</td>\n",
       "      <td>0.0</td>\n",
       "      <td>0.0</td>\n",
       "      <td>0.0</td>\n",
       "      <td>0.000000</td>\n",
       "      <td>0.0</td>\n",
       "      <td>0.0</td>\n",
       "      <td>0.0</td>\n",
       "      <td>20171</td>\n",
       "      <td>20171</td>\n",
       "      <td>0.0</td>\n",
       "    </tr>\n",
       "    <tr>\n",
       "      <th>3</th>\n",
       "      <td>0.004750</td>\n",
       "      <td>0.0</td>\n",
       "      <td>0.000000</td>\n",
       "      <td>0.000000</td>\n",
       "      <td>0.0</td>\n",
       "      <td>0.0</td>\n",
       "      <td>0.0</td>\n",
       "      <td>0.0</td>\n",
       "      <td>0.000000</td>\n",
       "      <td>0.0</td>\n",
       "      <td>0.0</td>\n",
       "      <td>0.0</td>\n",
       "      <td>20171</td>\n",
       "      <td>20171</td>\n",
       "      <td>0.0</td>\n",
       "    </tr>\n",
       "    <tr>\n",
       "      <th>4</th>\n",
       "      <td>0.005115</td>\n",
       "      <td>0.0</td>\n",
       "      <td>0.000000</td>\n",
       "      <td>0.000000</td>\n",
       "      <td>0.0</td>\n",
       "      <td>0.0</td>\n",
       "      <td>0.0</td>\n",
       "      <td>0.0</td>\n",
       "      <td>0.000000</td>\n",
       "      <td>0.0</td>\n",
       "      <td>0.0</td>\n",
       "      <td>0.0</td>\n",
       "      <td>20171</td>\n",
       "      <td>20171</td>\n",
       "      <td>0.0</td>\n",
       "    </tr>\n",
       "  </tbody>\n",
       "</table>\n",
       "</div>"
      ],
      "text/plain": [
       "    user_id  nb_wallets  balance_moyen  balance_max  nb_trans_total  \\\n",
       "0  0.000000         1.0       0.188727     0.188727             4.0   \n",
       "1  0.001827         0.0       0.000000     0.000000             0.0   \n",
       "2  0.002558         0.0       0.000000     0.000000             0.0   \n",
       "3  0.004750         0.0       0.000000     0.000000             0.0   \n",
       "4  0.005115         0.0       0.000000     0.000000             0.0   \n",
       "\n",
       "   nb_trans_failed  taux_echec_trans  nb_paiements  montant_total_paye  \\\n",
       "0              4.0               1.0           4.0            3.999999   \n",
       "1              0.0               0.0           0.0            0.000000   \n",
       "2              0.0               0.0           0.0            0.000000   \n",
       "3              0.0               0.0           0.0            0.000000   \n",
       "4              0.0               0.0           0.0            0.000000   \n",
       "\n",
       "   nb_transferts_30j  nb_ips_diff  nb_modifications_wallet  age_compte_jours  \\\n",
       "0                0.0          2.0                     26.0             20171   \n",
       "1                0.0          0.0                      0.0             20171   \n",
       "2                0.0          0.0                      0.0             20171   \n",
       "3                0.0          0.0                      0.0             20171   \n",
       "4                0.0          0.0                      0.0             20171   \n",
       "\n",
       "   delai_derniere_op  kyc_valide  \n",
       "0              20171         0.0  \n",
       "1              20171         0.0  \n",
       "2              20171         0.0  \n",
       "3              20171         0.0  \n",
       "4              20171         0.0  "
      ]
     },
     "execution_count": 11,
     "metadata": {},
     "output_type": "execute_result"
    }
   ],
   "source": [
    "# 5) NETTOYAGE FINAL\n",
    "\n",
    "# Remplacer les NaN par 0\n",
    "features_df.fillna(0, inplace=True)\n",
    "\n",
    "# Vérifier les types de données\n",
    "print(features_df.dtypes)\n",
    "\n",
    "# Aperçu du jeu de données final\n",
    "features_df.head()"
   ]
  },
  {
   "cell_type": "code",
   "execution_count": 12,
   "id": "189ed6ea-fe62-4554-bf5a-2ce371e4d057",
   "metadata": {},
   "outputs": [
    {
     "name": "stdout",
     "output_type": "stream",
     "text": [
      "Features sauvegardées avec succès dans : ..\\features\\features_cartes_virtuelles.csv\n"
     ]
    }
   ],
   "source": [
    "# Définir le chemin vers le dossier \"features\"\n",
    "features_path = os.path.join(\"..\", \"features\")\n",
    "os.makedirs(features_path, exist_ok=True)  # Crée le dossier s’il n’existe pas\n",
    "\n",
    "# 2. Définir le nom complet du fichier\n",
    "features_file = os.path.join(features_path, \"features_cartes_virtuelles.csv\")\n",
    "\n",
    "# 3. Sauvegarder le fichier CSV\n",
    "features_df.to_csv(features_file, index=False)\n",
    "\n",
    "print(f\"Features sauvegardées avec succès dans : {features_file}\")"
   ]
  }
 ],
 "metadata": {
  "kernelspec": {
   "display_name": "Python 3 (ipykernel)",
   "language": "python",
   "name": "python3"
  },
  "language_info": {
   "codemirror_mode": {
    "name": "ipython",
    "version": 3
   },
   "file_extension": ".py",
   "mimetype": "text/x-python",
   "name": "python",
   "nbconvert_exporter": "python",
   "pygments_lexer": "ipython3",
   "version": "3.9.15"
  }
 },
 "nbformat": 4,
 "nbformat_minor": 5
}
